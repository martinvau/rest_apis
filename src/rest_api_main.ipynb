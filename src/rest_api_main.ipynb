{
 "cells": [
  {
   "cell_type": "markdown",
   "metadata": {},
   "source": [
    "## Accompanying Jupyter Notebook for the REST APIs with Flask and Python Udemy Course\n",
    "[link to course](https://www.udemy.com/course/rest-api-flask-and-python/)"
   ]
  },
  {
   "cell_type": "markdown",
   "metadata": {},
   "source": [
    "#### Overview"
   ]
  },
  {
   "cell_type": "markdown",
   "metadata": {},
   "source": [
    "An API is a program that takes in some data and gives back some other data, usually after processing it.\n",
    "\n",
    "We will be building such programs, so that our users can send us some data, we can process it, and then we can send them something else."
   ]
  },
  {
   "cell_type": "markdown",
   "metadata": {},
   "source": [
    "# Python refresher"
   ]
  },
  {
   "cell_type": "markdown",
   "metadata": {},
   "source": [
    "## 1) dictionary comprehensions"
   ]
  },
  {
   "cell_type": "code",
   "execution_count": 71,
   "metadata": {},
   "outputs": [
    {
     "name": "stdout",
     "output_type": "stream",
     "text": [
      "enter username:usera\n",
      "enter pw:A\n",
      "password is ok\n"
     ]
    }
   ],
   "source": [
    "## Dictionary comprehensions\n",
    "users = [\n",
    "    (0,\"usera\",\"A\"),\n",
    "    (1,\"userb\",\"B\"),\n",
    "    (2,\"userc\",\"C\"),\n",
    "    (3,\"userdd\",\"D\")\n",
    "]\n",
    "\n",
    "user_mapping = {user[1] : user for user in users}\n",
    "\n",
    "\n",
    "username_input = input('enter username:')\n",
    "password_input = input('enter pw:')\n",
    "\n",
    "_,username,password = user_mapping[username_input]\n",
    "\n",
    "if password_input == password:\n",
    "    print('password is ok')\n",
    "else:\n",
    "    print('password is wrong')"
   ]
  },
  {
   "cell_type": "markdown",
   "metadata": {},
   "source": [
    "## 2) arguments / keyword arguments"
   ]
  },
  {
   "cell_type": "code",
   "execution_count": 108,
   "metadata": {},
   "outputs": [],
   "source": [
    "## unpacking arguments (1\n",
    "def multiply(*args):               # set of arguments collected in a tuple\n",
    "    total = 1\n",
    "    \n",
    "    for arg in args:\n",
    "        total = arg * total\n",
    "        \n",
    "    return total"
   ]
  },
  {
   "cell_type": "code",
   "execution_count": 105,
   "metadata": {},
   "outputs": [
    {
     "data": {
      "text/plain": [
       "15"
      ]
     },
     "execution_count": 105,
     "metadata": {},
     "output_type": "execute_result"
    }
   ],
   "source": [
    "multiply(1,3,5)"
   ]
  },
  {
   "cell_type": "code",
   "execution_count": 106,
   "metadata": {},
   "outputs": [
    {
     "data": {
      "text/plain": [
       "8"
      ]
     },
     "execution_count": 106,
     "metadata": {},
     "output_type": "execute_result"
    }
   ],
   "source": [
    "## unpacking arguments (2)\n",
    "def add(x,y):\n",
    "    return x + y\n",
    "\n",
    "nums = [3,5]\n",
    "add(*nums)"
   ]
  },
  {
   "cell_type": "code",
   "execution_count": 107,
   "metadata": {},
   "outputs": [
    {
     "data": {
      "text/plain": [
       "40"
      ]
     },
     "execution_count": 107,
     "metadata": {},
     "output_type": "execute_result"
    }
   ],
   "source": [
    "nums = {'x':15,'y':25}\n",
    "add(**nums)"
   ]
  },
  {
   "cell_type": "code",
   "execution_count": 115,
   "metadata": {},
   "outputs": [
    {
     "data": {
      "text/plain": [
       "20"
      ]
     },
     "execution_count": 115,
     "metadata": {},
     "output_type": "execute_result"
    }
   ],
   "source": [
    "## unpacking arguments (3)\n",
    "def multiply(*args):               # set of arguments collected in a tuple\n",
    "    total = 1\n",
    "    \n",
    "    for arg in args:\n",
    "        total = arg * total\n",
    "        \n",
    "    return total\n",
    "\n",
    "def apply(*args, operator):        #collect all arguments with *args\n",
    "    if operator == '*':\n",
    "        return(multiply(*args))\n",
    "    elif operator == '+':\n",
    "        return(sum(args))\n",
    "    else:\n",
    "        print('no valid operator')\n",
    "\n",
    "apply(1,2,10,operator='*')\n",
    "    "
   ]
  },
  {
   "cell_type": "code",
   "execution_count": 116,
   "metadata": {},
   "outputs": [
    {
     "name": "stdout",
     "output_type": "stream",
     "text": [
      "{'name': 'bob', 'age': 25}\n"
     ]
    }
   ],
   "source": [
    "# keyword arguments\n",
    "def named(**kwargs):\n",
    "    print(kwargs)                   #returns dictionary\n",
    "    \n",
    "    \n",
    "named(name='bob',age=25)"
   ]
  },
  {
   "cell_type": "code",
   "execution_count": 124,
   "metadata": {},
   "outputs": [
    {
     "name": "stdout",
     "output_type": "stream",
     "text": [
      "Bob 25\n",
      "name:Bob\n",
      "age:25\n"
     ]
    }
   ],
   "source": [
    "def named(name,age):\n",
    "    print(name,age)                   #returns dictionary\n",
    "    \n",
    "def print_nicely(**kwargs):\n",
    "    named(**kwargs)\n",
    "    for arg, value in kwargs.items():\n",
    "        print(f'{arg}:{value}')\n",
    "    \n",
    "\n",
    "details = {'name':'Bob','age':25}\n",
    "\n",
    "##named(details['name'],details['age'])      ## <-- same\n",
    "#named(**details)\n",
    "\n",
    "print_nicely(**details)"
   ]
  },
  {
   "cell_type": "code",
   "execution_count": 125,
   "metadata": {},
   "outputs": [
    {
     "name": "stdout",
     "output_type": "stream",
     "text": [
      "(1, 3, 5)\n",
      "{'name': 'Bob', 'age': 25, 'town': 'NY'}\n"
     ]
    }
   ],
   "source": [
    "def both(*args, **kwargs):\n",
    "    print(args)\n",
    "    print(kwargs)\n",
    "    \n",
    "both(1,3,5, name='Bob', age=25, town='NY')"
   ]
  },
  {
   "cell_type": "markdown",
   "metadata": {},
   "source": [
    "## 3) object-oriented programming"
   ]
  },
  {
   "cell_type": "code",
   "execution_count": 23,
   "metadata": {},
   "outputs": [
    {
     "name": "stdout",
     "output_type": "stream",
     "text": [
      "88.0\n"
     ]
    }
   ],
   "source": [
    "# conventional way\n",
    "student = {'name': 'Rolf', 'grades' : (89,90,93,78,90)}\n",
    "\n",
    "def average(sequence):\n",
    "    return (sum(sequence) / len(sequence))\n",
    "\n",
    "print(average(student['grades']))\n",
    "\n",
    "# goal: student.average()"
   ]
  },
  {
   "cell_type": "code",
   "execution_count": 54,
   "metadata": {},
   "outputs": [],
   "source": [
    "# object oriented solution:\n",
    "class Student:\n",
    "    # define class functions\n",
    "    def __init__(self, name, sex, grades):\n",
    "            self.name = name\n",
    "            self.sex = sex\n",
    "            self.grades = grades\n",
    "            \n",
    "            \n",
    "    # define method within class\n",
    "    def average(self):\n",
    "        return sum(self.grades) / len(self.grades)"
   ]
  },
  {
   "cell_type": "code",
   "execution_count": 60,
   "metadata": {},
   "outputs": [
    {
     "name": "stdout",
     "output_type": "stream",
     "text": [
      "Bob\n",
      "m\n"
     ]
    },
    {
     "data": {
      "text/plain": [
       "5.25"
      ]
     },
     "execution_count": 60,
     "metadata": {},
     "output_type": "execute_result"
    }
   ],
   "source": [
    "student = Student('Bob','m',(9,9,1,2))     # initialise object\n",
    "print(student.name)\n",
    "print(student.sex)\n",
    "student.average()       # call method on object itself\n"
   ]
  },
  {
   "cell_type": "markdown",
   "metadata": {},
   "source": [
    "## 4) special / magic methods"
   ]
  },
  {
   "cell_type": "code",
   "execution_count": 66,
   "metadata": {},
   "outputs": [
    {
     "name": "stdout",
     "output_type": "stream",
     "text": [
      "Bob, 35 years old\n"
     ]
    },
    {
     "data": {
      "text/plain": [
       "'<Bob, 35 years old>'"
      ]
     },
     "execution_count": 66,
     "metadata": {},
     "output_type": "execute_result"
    }
   ],
   "source": [
    "class Person:\n",
    "    def __init__(self,name,age):\n",
    "        self.name = name\n",
    "        self.age = age\n",
    "        \n",
    "    def __str__(self):                   #magic method which gets called when user wants str representation of object\n",
    "        return f'{self.name}, {self.age} years old'\n",
    "    \n",
    "    def __repr__(self):                               # used for debugger, unambiguous representation\n",
    "        return f'<{self.name}, {self.age} years old>' #<> for reading purposes\n",
    "        \n",
    "        \n",
    "        \n",
    "bob = Person('Bob',35) # object; cannot be printed directly\n",
    "\n",
    "print(bob) # str magic method is being called\n",
    "bob.__repr__()"
   ]
  },
  {
   "cell_type": "markdown",
   "metadata": {},
   "source": [
    "### 4.1) Coding Exercise \n"
   ]
  },
  {
   "cell_type": "code",
   "execution_count": 131,
   "metadata": {},
   "outputs": [
    {
     "data": {
      "text/plain": [
       "100"
      ]
     },
     "execution_count": 131,
     "metadata": {},
     "output_type": "execute_result"
    }
   ],
   "source": [
    "class Store:\n",
    "    def __init__(self,name):\n",
    "        self.name = name\n",
    "        self.items = []\n",
    "        # You'll need 'name' as an argument to this method.\n",
    "        # Then, initialise 'self.name' to be the argument, and 'self.items' to be an empty list.\n",
    "    \n",
    "    def add_item(self,item_name,item_price):\n",
    "        self.items.append({'name':item_name,'price':item_price})\n",
    "        # Create a dictionary with keys name and price, and append that to self.items.\n",
    "\n",
    "    def stock_price(self):\n",
    "        #out = 0\n",
    "        #for i in self.items:\n",
    "        #    out += i['price']\n",
    "        #return out\n",
    "        return sum([item['price'] for item in self.items])\n",
    "        # Add together all item prices in self.items and return the total.\n",
    "\n",
    "        \n",
    "store = Store('store1')\n",
    "store.add_item('a',90)\n",
    "store.add_item('b',10)\n",
    "store.stock_price()"
   ]
  },
  {
   "cell_type": "markdown",
   "metadata": {},
   "source": [
    "## 5) class- and static methods"
   ]
  },
  {
   "cell_type": "code",
   "execution_count": 140,
   "metadata": {
    "scrolled": true
   },
   "outputs": [
    {
     "name": "stdout",
     "output_type": "stream",
     "text": [
      "called instance_method of <__main__.ClassTest object at 0x7fdfaad5c0b8>\n",
      "called class_method of <class '__main__.ClassTest'>\n",
      "called static_method\n"
     ]
    }
   ],
   "source": [
    "class ClassTest:\n",
    "    def instance_method(self):                              #used for an action using data in object\n",
    "        print(f'called instance_method of {self}')\n",
    "    \n",
    "    @classmethod                                            # used as 'factories'\n",
    "    def class_method(cls): #is class itself\n",
    "        print(f'called class_method of {cls}')\n",
    "        \n",
    "    @staticmethod                                           # place method into class\n",
    "    def static_method():\n",
    "        print(f'called static_method')\n",
    "        \n",
    "        \n",
    "# # #\n",
    "        \n",
    "test_object = ClassTest()      # create object or instance of ClassTest\n",
    "test_object.instance_method()  # call instance method\n",
    "\n",
    "ClassTest.class_method()       # ClassTest.class_method(ClassTest)\n",
    "\n",
    "ClassTest.static_method()   # \n"
   ]
  },
  {
   "cell_type": "markdown",
   "metadata": {},
   "source": [
    "### 5) class method example"
   ]
  },
  {
   "cell_type": "code",
   "execution_count": 150,
   "metadata": {},
   "outputs": [
    {
     "name": "stdout",
     "output_type": "stream",
     "text": [
      "< Name: Harry Potter, hardcover, 1500g>\n",
      "< Name: Peter Pan, hardcover, 1600g>\n",
      "< Name: Peter Pan reloaded, paperback, 10g>\n"
     ]
    }
   ],
   "source": [
    "class Book:\n",
    "    TYPES = ('hardcover','paperback') # variables in classes = class properties. callable as  print(Book.TYPES)\n",
    "    \n",
    "    def __init__(self, name, book_type, weight):\n",
    "        self.name = name            # store argument as property\n",
    "        self.book_type = book_type\n",
    "        self.weight = weight\n",
    "        \n",
    "    def __repr__(self):\n",
    "        return f'< Name: {self.name}, {self.book_type}, {self.weight}g>' #<> for reading purposes\n",
    "    \n",
    "    \n",
    "    \n",
    "#factory idea: create new object inside a class; avoids the need of creating object first\n",
    "    @classmethod\n",
    "    def hardcover(cls, name, page_weight):\n",
    "        return cls(name, cls.TYPES[0], page_weight + 100) #create new book object with hard-wired type adjusted weight \n",
    "        #return Book(name, Book.TYPES[0], page_weight + 100)\n",
    "        \n",
    "    @classmethod\n",
    "    def paperback(cls, name, page_weight):\n",
    "        return cls(name, cls.TYPES[1], page_weight) #create new book object with hard-wired type adjusted weight \n",
    "        \n",
    "    \n",
    "book = Book('Harry Potter','hardcover', 1500) \n",
    "book2 = Book.hardcover('Peter Pan', 1500)\n",
    "book3 = Book.paperback('Peter Pan reloaded', 10)\n",
    "\n",
    "print(book)\n",
    "print(book2)\n",
    "print(book3)"
   ]
  },
  {
   "cell_type": "markdown",
   "metadata": {},
   "source": [
    "#### 5.1) exercise"
   ]
  },
  {
   "cell_type": "code",
   "execution_count": 204,
   "metadata": {},
   "outputs": [
    {
     "name": "stdout",
     "output_type": "stream",
     "text": [
      "Laden 1, total stock price: 999\n",
      "Laden 2, total stock price: 0\n"
     ]
    }
   ],
   "source": [
    "class Store:\n",
    "    def __init__(self, name):\n",
    "        self.name = name\n",
    "        self.items = []\n",
    "\n",
    "    def add_item(self, name, price):\n",
    "        self.items.append({\n",
    "            'name': name,\n",
    "            'price': price\n",
    "        })\n",
    "\n",
    "    def stock_price(self):\n",
    "        total = 0\n",
    "        for item in self.items:\n",
    "            total += item['price']\n",
    "        return total\n",
    "\n",
    "    @classmethod\n",
    "    def franchise(cls, store):\n",
    "        new_store = cls(store.name + ' - franchise')\n",
    "        return new_store\n",
    "\n",
    "    @staticmethod\n",
    "    def store_details(store):\n",
    "        return f'{store.name}, total stock price: {int(store.stock_price())}'\n",
    "\n",
    "    \n",
    "    \n",
    "new_store = Store('Laden 1')\n",
    "new_store2 = Store('Laden 2')\n",
    "new_store.add_item('key board',999)\n",
    "\n",
    "out = Store.franchise(new_store)\n",
    "print(out.store_details(new_store))\n",
    "print(out.store_details(new_store2))\n"
   ]
  },
  {
   "cell_type": "markdown",
   "metadata": {},
   "source": [
    "### 06) Class inheritance\n",
    "Class can inherit method function from another class"
   ]
  },
  {
   "cell_type": "code",
   "execution_count": 5,
   "metadata": {
    "scrolled": true
   },
   "outputs": [
    {
     "name": "stdout",
     "output_type": "stream",
     "text": [
      "Device 'Printer' USB\n",
      "Disconnected!\n"
     ]
    }
   ],
   "source": [
    "class Device:\n",
    "    def __init__(self, name, connected_by):\n",
    "        self.name = name\n",
    "        self.connected_by = connected_by\n",
    "        self.connected = True # assume device is connected\n",
    "        \n",
    "    def __str__(self):\n",
    "        return f'Device {self.name!r} {self.connected_by}' # !r calls repr of self.name\n",
    "        \n",
    "    def disconnect(self):\n",
    "        self.connected = False\n",
    "        print('Disconnected!')\n",
    "        \n",
    "# Test\n",
    "printer = Device('Printer', 'USB')\n",
    "print(printer)\n",
    "printer.disconnect()"
   ]
  },
  {
   "cell_type": "markdown",
   "metadata": {},
   "source": [
    "inheritance: create another class that uses the functions of Device class but has more on top"
   ]
  },
  {
   "cell_type": "code",
   "execution_count": 13,
   "metadata": {
    "scrolled": true
   },
   "outputs": [
    {
     "name": "stdout",
     "output_type": "stream",
     "text": [
      "Device 'Printer 1' USB (500 pages remaining)\n",
      "printing 200 pages.\n",
      "Device 'Printer 1' USB (300 pages remaining)\n",
      "Disconnected!\n",
      "printer is not connected!\n"
     ]
    }
   ],
   "source": [
    "class Printer(Device): #inherit from Device\n",
    "    def __init__(self, name, connected_by, capacity):\n",
    "        super().__init__(name, connected_by) # get parent class from 'Device' and calls __init__\n",
    "        self.capacity = capacity #maximum capacity\n",
    "        self.remaining_pages = capacity # current capacity\n",
    "        \n",
    "    def __str__(self):\n",
    "        return f'{super().__str__()} ({self.remaining_pages} pages remaining)' # inherit from 'Device'\n",
    "    \n",
    "    def print(self, pages):\n",
    "        if not self.connected:\n",
    "            print('printer is not connected!')\n",
    "            return\n",
    "        print(f'printing {pages} pages.')\n",
    "        self.remaining_pages -= pages\n",
    "        \n",
    "printer = Printer('Printer 1', 'USB', 500)\n",
    "print(printer)\n",
    "printer.print(200)\n",
    "print(printer)\n",
    "printer.disconnect()\n",
    "printer.print(200)"
   ]
  },
  {
   "cell_type": "markdown",
   "metadata": {},
   "source": [
    "### 07) Class composition\n",
    "for a class that contains another class"
   ]
  },
  {
   "cell_type": "code",
   "execution_count": 23,
   "metadata": {},
   "outputs": [
    {
     "name": "stdout",
     "output_type": "stream",
     "text": [
      "Bookshelf with 2 books.\n"
     ]
    }
   ],
   "source": [
    "# here: class inheritance, e.g. Book class does not make sense as 'quantity' of bookshelf needs to be passed\n",
    "class BookShelf:\n",
    "    def __init__(self, *books):\n",
    "        self.books = books\n",
    "        \n",
    "    def __str__(self):\n",
    "        return f'Bookshelf with {len(self.books)} books.'\n",
    "       \n",
    "    \n",
    "class Book:\n",
    "    def __init__(self, name):\n",
    "        self.name = name\n",
    "        \n",
    "    def __str__(self):\n",
    "        return f'Book {self.name}'\n",
    "\n",
    "\n",
    "\n",
    "book1 = Book('book1')\n",
    "book2 = Book('book2')\n",
    "\n",
    "shelf = BookShelf(book1, book2)\n",
    "print(shelf)\n"
   ]
  },
  {
   "cell_type": "markdown",
   "metadata": {},
   "source": [
    "### 08) Type hinting (Python 3.5+)"
   ]
  },
  {
   "cell_type": "code",
   "execution_count": 28,
   "metadata": {},
   "outputs": [
    {
     "data": {
      "text/plain": [
       "3.25"
      ]
     },
     "execution_count": 28,
     "metadata": {},
     "output_type": "execute_result"
    }
   ],
   "source": [
    "def list_avg(sequence: list) -> float: #tells python that it should be a list and function returns a float\n",
    "    return sum(sequence) / len(sequence)\n",
    "\n",
    "list_avg([1,3,4,5])"
   ]
  },
  {
   "cell_type": "code",
   "execution_count": 29,
   "metadata": {},
   "outputs": [],
   "source": [
    "# better:\n",
    "from typing import List\n",
    "\n",
    "def list_avg(sequence: List) -> float: #tells python that it should be a list and function returns a float\n",
    "    return sum(sequence) / len(sequence)"
   ]
  },
  {
   "cell_type": "code",
   "execution_count": 32,
   "metadata": {},
   "outputs": [],
   "source": [
    "class Book:\n",
    "    def __init__(self, name: str, page_type: int):\n",
    "        self.name = name           \n",
    "        self.page_count = page_count\n",
    "        \n",
    "class BookShelf:\n",
    "    def __init__(self, *books: List[Book]):\n",
    "        self.books = books\n",
    "        \n",
    "    def __str__(self) -> str:\n",
    "        return f'Bookshelf with {len(self.books)} books.'"
   ]
  },
  {
   "cell_type": "code",
   "execution_count": 34,
   "metadata": {},
   "outputs": [],
   "source": [
    "class Book:\n",
    "    TYPES = ('hardcover','paperback') # variables in classes = class properties. callable as  print(Book.TYPES)\n",
    "    \n",
    "    def __init__(self, name: str, book_type: str, weight: int):\n",
    "        self.name = name            # store argument as property\n",
    "        self.book_type = book_type\n",
    "        self.weight = weight\n",
    "        \n",
    "    def __repr__(self) -> str:\n",
    "        return f'< Name: {self.name}, {self.book_type}, {self.weight}g>' #<> for reading purposes\n",
    "    \n",
    "    \n",
    "    \n",
    "#factory idea: create new object inside a class; avoids the need of creating object first\n",
    "    @classmethod\n",
    "    def hardcover(cls, name: str, page_weight: int) -> 'Book': # method returns a Book object\n",
    "        return cls(name, cls.TYPES[0], page_weight + 100) #create new book object with hard-wired type adjusted weight \n",
    "        #return Book(name, Book.TYPES[0], page_weight + 100)\n",
    "        \n",
    "    @classmethod\n",
    "    def paperback(cls, name: str, page_weight: int) -> 'Book': # method returns a Book object\n",
    "        return cls(name, cls.TYPES[1], page_weight) #create new book object with hard-wired type adjusted weight "
   ]
  },
  {
   "cell_type": "code",
   "execution_count": 35,
   "metadata": {},
   "outputs": [],
   "source": [
    "### 08) Importing into python"
   ]
  },
  {
   "cell_type": "markdown",
   "metadata": {},
   "source": [
    "# Code"
   ]
  },
  {
   "cell_type": "code",
   "execution_count": 59,
   "metadata": {},
   "outputs": [],
   "source": [
    "#import libraries \n",
    "\n",
    "from flask import Flask         #Flask: is class"
   ]
  },
  {
   "cell_type": "code",
   "execution_count": 60,
   "metadata": {},
   "outputs": [
    {
     "name": "stdout",
     "output_type": "stream",
     "text": [
      " * Serving Flask app \"__main__\" (lazy loading)\n",
      " * Environment: production\n",
      "   WARNING: Do not use the development server in a production environment.\n",
      "   Use a production WSGI server instead.\n",
      " * Debug mode: off\n"
     ]
    },
    {
     "name": "stderr",
     "output_type": "stream",
     "text": [
      " * Running on http://127.0.0.1:5000/ (Press CTRL+C to quit)\n",
      "127.0.0.1 - - [08/Feb/2021 21:42:51] \"GET / HTTP/1.1\" 200 -\n",
      "127.0.0.1 - - [08/Feb/2021 21:42:51] \"GET /favicon.ico HTTP/1.1\" 404 -\n"
     ]
    }
   ],
   "source": [
    "app = Flask(__name__)           # define object with a unique name\n",
    "@app.route('/')                 # tell app what requests to understand. '/' homepage of application\n",
    "def home():                     # method\n",
    "    return 'hello world'\n",
    "\n",
    "\n",
    "app.run(port=5000)              # run app with a certain port"
   ]
  },
  {
   "cell_type": "code",
   "execution_count": null,
   "metadata": {},
   "outputs": [],
   "source": []
  }
 ],
 "metadata": {
  "kernelspec": {
   "display_name": "py_bootcamp",
   "language": "python",
   "name": "py_bootcamp"
  },
  "language_info": {
   "codemirror_mode": {
    "name": "ipython",
    "version": 3
   },
   "file_extension": ".py",
   "mimetype": "text/x-python",
   "name": "python",
   "nbconvert_exporter": "python",
   "pygments_lexer": "ipython3",
   "version": "3.7.1"
  }
 },
 "nbformat": 4,
 "nbformat_minor": 2
}
