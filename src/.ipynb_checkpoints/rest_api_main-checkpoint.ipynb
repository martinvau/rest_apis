{
 "cells": [
  {
   "cell_type": "markdown",
   "metadata": {},
   "source": [
    "## Accompanying Jupyter Notebook for the REST APIs with Flask and Python Udemy Course\n",
    "[link to course](https://www.udemy.com/course/rest-api-flask-and-python/)"
   ]
  },
  {
   "cell_type": "markdown",
   "metadata": {},
   "source": [
    "#### Overview"
   ]
  },
  {
   "cell_type": "markdown",
   "metadata": {},
   "source": [
    "An API is a program that takes in some data and gives back some other data, usually after processing it.\n",
    "\n",
    "We will be building such programs, so that our users can send us some data, we can process it, and then we can send them something else."
   ]
  },
  {
   "cell_type": "markdown",
   "metadata": {},
   "source": [
    "## Python refresher"
   ]
  },
  {
   "cell_type": "code",
   "execution_count": 71,
   "metadata": {},
   "outputs": [
    {
     "name": "stdout",
     "output_type": "stream",
     "text": [
      "enter username:usera\n",
      "enter pw:A\n",
      "password is ok\n"
     ]
    }
   ],
   "source": [
    "## Dictionary comprehensions\n",
    "users = [\n",
    "    (0,\"usera\",\"A\"),\n",
    "    (1,\"userb\",\"B\"),\n",
    "    (2,\"userc\",\"C\"),\n",
    "    (3,\"userdd\",\"D\")\n",
    "]\n",
    "\n",
    "user_mapping = {user[1] : user for user in users}\n",
    "\n",
    "\n",
    "username_input = input('enter username:')\n",
    "password_input = input('enter pw:')\n",
    "\n",
    "_,username,password = user_mapping[username_input]\n",
    "\n",
    "if password_input == password:\n",
    "    print('password is ok')\n",
    "else:\n",
    "    print('password is wrong')"
   ]
  },
  {
   "cell_type": "code",
   "execution_count": 108,
   "metadata": {},
   "outputs": [],
   "source": [
    "## unpacking arguments (1\n",
    "def multiply(*args):               # set of arguments collected in a tuple\n",
    "    total = 1\n",
    "    \n",
    "    for arg in args:\n",
    "        total = arg * total\n",
    "        \n",
    "    return total"
   ]
  },
  {
   "cell_type": "code",
   "execution_count": 105,
   "metadata": {},
   "outputs": [
    {
     "data": {
      "text/plain": [
       "15"
      ]
     },
     "execution_count": 105,
     "metadata": {},
     "output_type": "execute_result"
    }
   ],
   "source": [
    "multiply(1,3,5)"
   ]
  },
  {
   "cell_type": "code",
   "execution_count": 106,
   "metadata": {},
   "outputs": [
    {
     "data": {
      "text/plain": [
       "8"
      ]
     },
     "execution_count": 106,
     "metadata": {},
     "output_type": "execute_result"
    }
   ],
   "source": [
    "## unpacking arguments (2)\n",
    "def add(x,y):\n",
    "    return x + y\n",
    "\n",
    "nums = [3,5]\n",
    "add(*nums)"
   ]
  },
  {
   "cell_type": "code",
   "execution_count": 107,
   "metadata": {},
   "outputs": [
    {
     "data": {
      "text/plain": [
       "40"
      ]
     },
     "execution_count": 107,
     "metadata": {},
     "output_type": "execute_result"
    }
   ],
   "source": [
    "nums = {'x':15,'y':25}\n",
    "add(**nums)"
   ]
  },
  {
   "cell_type": "code",
   "execution_count": 115,
   "metadata": {},
   "outputs": [
    {
     "data": {
      "text/plain": [
       "20"
      ]
     },
     "execution_count": 115,
     "metadata": {},
     "output_type": "execute_result"
    }
   ],
   "source": [
    "## unpacking arguments (3)\n",
    "def multiply(*args):               # set of arguments collected in a tuple\n",
    "    total = 1\n",
    "    \n",
    "    for arg in args:\n",
    "        total = arg * total\n",
    "        \n",
    "    return total\n",
    "\n",
    "def apply(*args, operator):        #collect all arguments with *args\n",
    "    if operator == '*':\n",
    "        return(multiply(*args))\n",
    "    elif operator == '+':\n",
    "        return(sum(args))\n",
    "    else:\n",
    "        print('no valid operator')\n",
    "\n",
    "apply(1,2,10,operator='*')\n",
    "    "
   ]
  },
  {
   "cell_type": "markdown",
   "metadata": {},
   "source": [
    "# Code"
   ]
  },
  {
   "cell_type": "code",
   "execution_count": 59,
   "metadata": {},
   "outputs": [],
   "source": [
    "#import libraries\n",
    "\n",
    "from flask import Flask         #Flask: is class"
   ]
  },
  {
   "cell_type": "code",
   "execution_count": 60,
   "metadata": {},
   "outputs": [
    {
     "name": "stdout",
     "output_type": "stream",
     "text": [
      " * Serving Flask app \"__main__\" (lazy loading)\n",
      " * Environment: production\n",
      "   WARNING: Do not use the development server in a production environment.\n",
      "   Use a production WSGI server instead.\n",
      " * Debug mode: off\n"
     ]
    },
    {
     "name": "stderr",
     "output_type": "stream",
     "text": [
      " * Running on http://127.0.0.1:5000/ (Press CTRL+C to quit)\n",
      "127.0.0.1 - - [08/Feb/2021 21:42:51] \"GET / HTTP/1.1\" 200 -\n",
      "127.0.0.1 - - [08/Feb/2021 21:42:51] \"GET /favicon.ico HTTP/1.1\" 404 -\n"
     ]
    }
   ],
   "source": [
    "app = Flask(__name__)           # define object with a unique name\n",
    "@app.route('/')                 # tell app what requests to understand. '/' homepage of application\n",
    "def home():                     # method\n",
    "    return 'hello world'\n",
    "\n",
    "\n",
    "app.run(port=5000)              # run app with a certain port"
   ]
  },
  {
   "cell_type": "code",
   "execution_count": null,
   "metadata": {},
   "outputs": [],
   "source": []
  }
 ],
 "metadata": {
  "kernelspec": {
   "display_name": "py_bootcamp",
   "language": "python",
   "name": "py_bootcamp"
  },
  "language_info": {
   "codemirror_mode": {
    "name": "ipython",
    "version": 3
   },
   "file_extension": ".py",
   "mimetype": "text/x-python",
   "name": "python",
   "nbconvert_exporter": "python",
   "pygments_lexer": "ipython3",
   "version": "3.7.1"
  }
 },
 "nbformat": 4,
 "nbformat_minor": 2
}
