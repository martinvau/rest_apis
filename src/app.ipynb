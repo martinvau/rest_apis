{
 "cells": [
  {
   "cell_type": "markdown",
   "metadata": {},
   "source": [
    "# Flask Apps"
   ]
  },
  {
   "cell_type": "code",
   "execution_count": 1,
   "metadata": {},
   "outputs": [],
   "source": [
    "#import libraries \n",
    "\n",
    "from flask import Flask         #Flask: is class"
   ]
  },
  {
   "cell_type": "markdown",
   "metadata": {},
   "source": [
    "### First Flask App"
   ]
  },
  {
   "cell_type": "code",
   "execution_count": 4,
   "metadata": {},
   "outputs": [
    {
     "name": "stdout",
     "output_type": "stream",
     "text": [
      " * Serving Flask app \"__main__\" (lazy loading)\n",
      " * Environment: production\n",
      "   WARNING: Do not use the development server in a production environment.\n",
      "   Use a production WSGI server instead.\n",
      " * Debug mode: off\n"
     ]
    },
    {
     "name": "stderr",
     "output_type": "stream",
     "text": [
      " * Running on http://127.0.0.1:5000/ (Press CTRL+C to quit)\n",
      "127.0.0.1 - - [16/May/2021 15:28:21] \"GET / HTTP/1.1\" 200 -\n",
      "127.0.0.1 - - [16/May/2021 15:28:21] \"GET /favicon.ico HTTP/1.1\" 404 -\n"
     ]
    }
   ],
   "source": [
    "# flask application work around requests (e.g. browser) and responses\n",
    "# server of flask application needs to be created to interpret response \n",
    "\n",
    "app = Flask(__name__)           # __name__: variable which gives objects with a unique name\n",
    "@app.route('/')                 # tell app what requests it needs to understand using a decorator. \n",
    "                                # Endpoint to understand. here: '/' homepage of application\n",
    "\n",
    "# decorators have to work on methods    \n",
    "def home():                     # home method = end point which creates response. name does not matter in Flask\n",
    "    return 'hello world'\n",
    "\n",
    "\n",
    "app.run(port=5000)              # run app with a certain port on which requests are being received\n",
    "\n",
    "# click on IP address to receive response"
   ]
  },
  {
   "cell_type": "markdown",
   "metadata": {},
   "source": [
    "## HTTP Verbs"
   ]
  },
  {
   "cell_type": "markdown",
   "metadata": {},
   "source": [
    "**What is a Server?**  \n",
    "Software which accepts incoming web requests.  \n",
    "\n",
    "---\n",
    "\n",
    "**What is being sent?**  \n",
    "GET / HTTP/1.1  \n",
    "Host: www.google.com  \n",
    "  \n",
    "`GET`: Verb that is expected of the server (here: server retrieves sth.). From a server side, the Verb can be interpreted differently.  \n",
    "Alternative verbs can be `DELETE (remove sth. from the server), PUT (check if sth. is on the server, creates, and updates if necessary), POST (server receives data and uses it), OPTIONS, HEAD` etc.  \n",
    "`/`: Root Path. What we want from server. Can also be, e.g. `/login`  \n",
    "`HTTP/1.1`: Protocol   "
   ]
  },
  {
   "cell_type": "markdown",
   "metadata": {},
   "source": [
    "## REST Principles"
   ]
  },
  {
   "cell_type": "markdown",
   "metadata": {},
   "source": [
    "**REST API**:  \n",
    "- Returns **JSON** after doing some processing. \n",
    "- Way of thinking how a web server responds (with a resource) to a request.  \n",
    "- Think of object oriented programming.\n",
    "- Endpoints can be *items* or *item lists*.  \n",
    "\n",
    "---\n",
    "\n",
    "**REST is stateless**:  \n",
    "- One request cannot be dependent on other requests so server only knows about current request, but not previous requests.\n",
    "\n",
    "**JSON**:  \n",
    "- Practically a string with dictionary format with key/value pairs. Comes in handy for sending data from one application to another. Conversion can be done in python with library `jsonify`.  \n",
    "- Always uses double quotes "
   ]
  },
  {
   "cell_type": "markdown",
   "metadata": {},
   "source": [
    "## Simulation of Online Store using Flask"
   ]
  },
  {
   "cell_type": "code",
   "execution_count": 20,
   "metadata": {},
   "outputs": [
    {
     "name": "stdout",
     "output_type": "stream",
     "text": [
      " * Serving Flask app \"__main__\" (lazy loading)\n",
      " * Environment: production\n",
      "   WARNING: Do not use the development server in a production environment.\n",
      "   Use a production WSGI server instead.\n",
      " * Debug mode: off\n"
     ]
    },
    {
     "name": "stderr",
     "output_type": "stream",
     "text": [
      " * Running on http://127.0.0.1:5000/ (Press CTRL+C to quit)\n",
      "127.0.0.1 - - [16/May/2021 19:47:35] \"GET / HTTP/1.1\" 404 -\n",
      "127.0.0.1 - - [16/May/2021 19:47:35] \"GET /favicon.ico HTTP/1.1\" 404 -\n",
      "127.0.0.1 - - [16/May/2021 19:47:45] \"GET / HTTP/1.1\" 404 -\n",
      "127.0.0.1 - - [16/May/2021 19:48:13] \"GET /store HTTP/1.1\" 200 -\n"
     ]
    }
   ],
   "source": [
    "#import libraries \n",
    "\n",
    "from flask import Flask, jsonify, request         #Flask: is class\n",
    "\n",
    "# flask application work around requests (e.g. browser) and responses\n",
    "# server of flask application needs to be created to interpret response \n",
    "\n",
    "app = Flask(__name__)           # __name__: variable which gives objects with a unique name\n",
    "     \n",
    "\n",
    "    \n",
    "stores = [\n",
    "    {\n",
    "        'name': 'store_name', # dictionary name\n",
    "        'items': [\n",
    "            {\n",
    "            'name': 'item 1',\n",
    "            'price': 15.99 \n",
    "            }\n",
    "        ]\n",
    "    }\n",
    "]\n",
    "    \n",
    "    \n",
    "    \n",
    "\n",
    "### Everything from server's perspective. Server commands that need to be implemented ###\n",
    "\n",
    "\n",
    "# POST: server receives data store/                #create store on server\n",
    "@app.route('/store', methods=['POST'])   \n",
    "def create_store():\n",
    "    request_data = request.get_json()\n",
    "    new_store = { \n",
    "        'name':request_data['name'],\n",
    "        'items': []\n",
    "    }\n",
    "    \n",
    "    stores.append(new_store)\n",
    "    \n",
    "    return jsonify(new_store)\n",
    "\n",
    "\n",
    "# GET: retrieve specific store from server. Server sends data back from endpoint: /store/<str:name>\n",
    "@app.route('/store/<string:name>')                 # Flask syntax. here: name has to match with function argument \n",
    "                                                   # http://127.0.0.1:5000/store/<some_name>\n",
    "def get_store(name):\n",
    "    # iterate over stores\n",
    "    # if the store matches, return it\n",
    "    # if none matches, return error message\n",
    "\n",
    "    for store in stores:\n",
    "        if store['name'] == name:\n",
    "            return jsonify(store)\n",
    "    \n",
    "    return jsonify({'message': 'error, store not found.'})\n",
    "            \n",
    "            \n",
    "        \n",
    "\n",
    "\n",
    "    \n",
    "# GET: /store #list of stores\n",
    "@app.route('/store')                               # http://127.0.0.1:5000/store/<some_name>\n",
    "def get_stores():\n",
    "    return jsonify({'stores': stores})             # jsonify expects dictionary. stores (value) = list of stores\n",
    "\n",
    "\n",
    "\n",
    "\n",
    "# POST: server creates item in store store/<str:name>/item {name:, price:}\n",
    "@app.route('/store/<string:name>/item', methods=['POST'])   \n",
    "def create_item_in_store(name):\n",
    "    \n",
    "    request_data = request.get_json()\n",
    "    \n",
    "    for store in stores:\n",
    "        if store['name'] == name:\n",
    "            new_item = { \n",
    "                'name':request_data['name'],\n",
    "                'price': request_data['price']\n",
    "            }\n",
    "    \n",
    "            store['items'].append(new_item)\n",
    "    \n",
    "            return jsonify(new_item)\n",
    "    \n",
    "    return jsonify({'message': 'error, store not found.'})\n",
    "\n",
    "\n",
    "# GET: store/<str:name>/item\n",
    "@app.route('/store/<string:name>/item') \n",
    "                                \n",
    "def get_items_in_store(name):\n",
    "    for store in stores:\n",
    "        if store['name'] == name:\n",
    "            return jsonify({'items': store['items']})\n",
    "    \n",
    "    return jsonify({'message': 'error, store not found.'})\n",
    "\n",
    "\n",
    "\n",
    "\n",
    "\n",
    "app.run(port=5000)              # run app with a certain port on which requests are being received"
   ]
  },
  {
   "cell_type": "code",
   "execution_count": 8,
   "metadata": {},
   "outputs": [],
   "source": [
    "stores = [\n",
    "{\n",
    "'name': 'store_name',\n",
    "'items': [\n",
    "    {\n",
    "    'name': 'item 1',\n",
    "    'price': 15.99 \n",
    "    }\n",
    "    ]\n",
    "}\n",
    "]"
   ]
  },
  {
   "cell_type": "code",
   "execution_count": 36,
   "metadata": {},
   "outputs": [
    {
     "ename": "SyntaxError",
     "evalue": "'return' outside function (<ipython-input-36-a4a6f820b8bc>, line 6)",
     "output_type": "error",
     "traceback": [
      "\u001b[0;36m  File \u001b[0;32m\"<ipython-input-36-a4a6f820b8bc>\"\u001b[0;36m, line \u001b[0;32m6\u001b[0m\n\u001b[0;31m    return print(f'ok')\u001b[0m\n\u001b[0m    ^\u001b[0m\n\u001b[0;31mSyntaxError\u001b[0m\u001b[0;31m:\u001b[0m 'return' outside function\n"
     ]
    }
   ],
   "source": [
    "name = 'xxx'\n",
    "\n",
    "for n in range(0,len(stores)):\n",
    "    if stores[n]['name'] == name:\n",
    "        return ok\n",
    "    else:\n",
    "        return Error\n",
    "        \n",
    "    \n",
    "\n",
    "\n"
   ]
  },
  {
   "cell_type": "code",
   "execution_count": 23,
   "metadata": {},
   "outputs": [
    {
     "data": {
      "text/plain": [
       "1"
      ]
     },
     "execution_count": 23,
     "metadata": {},
     "output_type": "execute_result"
    }
   ],
   "source": [
    "len(stores)"
   ]
  },
  {
   "cell_type": "code",
   "execution_count": 31,
   "metadata": {},
   "outputs": [
    {
     "data": {
      "text/plain": [
       "{'name': 'store_name', 'items': [{'name': 'item 1', 'price': 15.99}]}"
      ]
     },
     "execution_count": 31,
     "metadata": {},
     "output_type": "execute_result"
    }
   ],
   "source": [
    "stores[0]"
   ]
  },
  {
   "cell_type": "code",
   "execution_count": null,
   "metadata": {},
   "outputs": [],
   "source": []
  }
 ],
 "metadata": {
  "kernelspec": {
   "display_name": "Python 3",
   "language": "python",
   "name": "python3"
  },
  "language_info": {
   "codemirror_mode": {
    "name": "ipython",
    "version": 3
   },
   "file_extension": ".py",
   "mimetype": "text/x-python",
   "name": "python",
   "nbconvert_exporter": "python",
   "pygments_lexer": "ipython3",
   "version": "3.7.1"
  }
 },
 "nbformat": 4,
 "nbformat_minor": 2
}
